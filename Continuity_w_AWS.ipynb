{
 "cells": [
  {
   "cell_type": "markdown",
   "metadata": {},
   "source": [
    "# Running Continuity on AWS from a Jupyter Notebook"
   ]
  },
  {
   "cell_type": "markdown",
   "metadata": {},
   "source": [
    "Outline: \n",
    "\n",
    "1. [Step 1: Launch an AWS Instance](#Step_1)\n",
    "1. [Step 2: Define Continuity Simulation Parameters in a Python Script](#Step_2)\n",
    "1. [Step 3: Move files to the EC2 instance](#Step_3)\n",
    "1. [Step 4: Run Continuity simulation](#Step_4)\n",
    "1. [Step 5: Copy files back from EC2 instance and terminate the instance](#Step_5)\n",
    "1. [Step 6: Terminate the instance](#Step_6)"
   ]
  },
  {
   "cell_type": "markdown",
   "metadata": {},
   "source": [
    "<a id=\"Step_1\"></a>\n",
    "## Step 1: Launch an AWS Instance"
   ]
  },
  {
   "cell_type": "markdown",
   "metadata": {},
   "source": [
    "#### Input Parameters\n",
    "The user needs to provide their access key information, a private key, and define the properties for their instance.  All of these can be generated through python or with AWS CLI, but they may be easier to do through the aws console if only a single account is being set up."
   ]
  },
  {
   "cell_type": "code",
   "execution_count": null,
   "metadata": {},
   "outputs": [],
   "source": [
    "import boto3\n",
    "import subprocess\n",
    "import sys"
   ]
  },
  {
   "cell_type": "code",
   "execution_count": null,
   "metadata": {},
   "outputs": [],
   "source": [
    "# Access keys - These can be set up by creating a new IAM account for each user\n",
    "aws_access_key_id = ''\n",
    "aws_secret_access_key = ''\n",
    "\n",
    "# Key pair - The key name and path to the private k\n",
    "KeyName = ''\n",
    "priv_key = ''\n",
    "\n",
    "# Instance properties - ensure that the image used has Continuity pre-installed\n",
    "region = 'us-west-1'\n",
    "ImageId = 'ami-0948262f83c23b44c'\n",
    "InstanceType = 'c5.large'\n",
    "NameTag = 'jupyter_test'\n",
    "VolumeSize = 12   # GB; current Continuity AMI fills up the entire 8GB volume but could be fixed"
   ]
  },
  {
   "cell_type": "markdown",
   "metadata": {},
   "source": [
    "#### Launch instance"
   ]
  },
  {
   "cell_type": "code",
   "execution_count": null,
   "metadata": {},
   "outputs": [],
   "source": [
    "ec2 = boto3.resource('ec2', region,\n",
    "        aws_access_key_id = aws_access_key_id,\n",
    "        aws_secret_access_key = aws_secret_access_key)"
   ]
  },
  {
   "cell_type": "code",
   "execution_count": null,
   "metadata": {},
   "outputs": [],
   "source": [
    "#Tagging the isntance with a name is not needed, but it can be useful\n",
    "TagSpec = [{'ResourceType':'instance','Tags': [{\n",
    "                    'Key': 'Name',\n",
    "                    'Value': NameTag}]}]"
   ]
  },
  {
   "cell_type": "code",
   "execution_count": null,
   "metadata": {},
   "outputs": [],
   "source": [
    "instances = ec2.create_instances(ImageId=ImageId, \n",
    "                                InstanceType=InstanceType, \n",
    "                                KeyName=KeyName, \n",
    "                                TagSpecifications=TagSpec,\n",
    "                                BlockDeviceMappings=[{\"DeviceName\": \"/dev/sda1\",\"Ebs\" : { \"VolumeSize\" : VolumeSize }}],\n",
    "                                IamInstanceProfile={'Name': 'SSMInstanceProfile'},\n",
    "                                MinCount=1,\n",
    "                                MaxCount=1)\n",
    "instance = instances[0]\n",
    "instance.wait_until_running()\n",
    "instance.load()"
   ]
  },
  {
   "cell_type": "markdown",
   "metadata": {},
   "source": [
    "#### Check that the instance is running\n",
    "\n",
    "The above cell will not complete until the instance is actually running - `instane.wait_until_running()`.  We can double check that it is running by listing all currently running instances for the CMRG account (on the given region)"
   ]
  },
  {
   "cell_type": "code",
   "execution_count": null,
   "metadata": {},
   "outputs": [],
   "source": [
    "#Functions could be moved to a remote script to make the notebook cleaner\n",
    "def show_instance(status):\n",
    "    instances = ec2.instances.filter(\n",
    "        Filters=[{'Name': 'instance-state-name', 'Values': [status]}])\n",
    "    for instance in instances:\n",
    "        print(instance.tags[0]['Value'], instance.id, instance.instance_type, instance.image_id, instance.public_ip_address)"
   ]
  },
  {
   "cell_type": "code",
   "execution_count": null,
   "metadata": {},
   "outputs": [],
   "source": [
    "show_instance('running')"
   ]
  },
  {
   "cell_type": "markdown",
   "metadata": {},
   "source": [
    "<a id=\"Step_2\"></a>\n",
    "## Step 2: Define Continuity Simulation Parameters in a Python Script"
   ]
  },
  {
   "cell_type": "markdown",
   "metadata": {},
   "source": [
    "Running Continuity on AWS through a Jupyter Notebook requires using a python run script to execute your Continuity simulation.  It is easiest to run from a template for the class of problem you are looking to run and using the Jupyter Notebook to make edits to that file.  This section will be different for every specific use case.\n",
    "\n",
    "For this example, I am going to change the conductivity and the simulation name. The location of the .cont6 file on the EC2 instance is also needed\n",
    "#### Input Parameters"
   ]
  },
  {
   "cell_type": "code",
   "execution_count": null,
   "metadata": {},
   "outputs": [],
   "source": [
    "cont6_file = './sheet2304.cont6'\n",
    "run_script = './sheet_template.py'\n",
    "\n",
    "ec2_path = '/home/ubuntu/sims/'\n",
    "\n",
    "run_name = 'sheetStim1'\n",
    "conductivity = '0.1'"
   ]
  },
  {
   "cell_type": "markdown",
   "metadata": {},
   "source": [
    "#### Edit Python File"
   ]
  },
  {
   "cell_type": "code",
   "execution_count": null,
   "metadata": {},
   "outputs": [],
   "source": [
    "# Open the template run script\n",
    "tmp = open(run_script,'r')\n",
    "tmp_list = tmp.readlines()\n",
    "tmp.close()\n",
    "\n",
    "# Edit the lines defining the run name and the conductivity\n",
    "tmp_list[1] = 'fName = \\'%s\\'\\n'%run_name\n",
    "tmp_list[2] = 'f11 = %s\\n'%conductivity\n",
    "tmp_list[3] = 'cont6path = \\'%s\\'\\n'%(ec2_path+cont6_file[2:])\n",
    "\n",
    "# Resave the run script\n",
    "outFile = open(run_name+'.py','w')\n",
    "outFile.writelines(tmp_list)\n",
    "outFile.close()"
   ]
  },
  {
   "cell_type": "markdown",
   "metadata": {},
   "source": [
    "<a id=\"Step_3\"></a>\n",
    "## Step 3: Move files to the EC2 instance"
   ]
  },
  {
   "cell_type": "markdown",
   "metadata": {},
   "source": [
    "Here we need to provide the path location to put the files on the EC2 instance.  In the AMI used here, there is a folder named '~/sims/' to place scripts in and run simulations"
   ]
  },
  {
   "cell_type": "markdown",
   "metadata": {},
   "source": [
    "#### Copy files to instance"
   ]
  },
  {
   "cell_type": "code",
   "execution_count": null,
   "metadata": {},
   "outputs": [],
   "source": [
    "# First define a function using subprocess to call scp\n",
    "# Note that the StrictHostKeyChecking=accept-new is not ideal. More native AWS methods may be better or perhaps paramiko\n",
    "def copy_to_remote(path_to_pem, local_file_path, host_username, host_ip, host_path):\n",
    "        scp = subprocess.Popen(['scp', '-i', path_to_pem, '-o', 'StrictHostKeyChecking=accept-new', local_file_path, '%s@%s:%s'%(host_username, host_ip, host_path)],\n",
    "                       shell=False,\n",
    "                       stdout=subprocess.PIPE,\n",
    "                       stderr=subprocess.PIPE)\n",
    "        sts = scp.wait()\n",
    "        error = scp.stderr.readlines()\n",
    "        result = scp.stdout.readlines()\n",
    "        if error != []:\n",
    "                print(sys.stderr, \"ERROR.: %s\"%error)\n",
    "                return \"error\"\n",
    "        else:\n",
    "                return print('success')"
   ]
  },
  {
   "cell_type": "code",
   "execution_count": null,
   "metadata": {},
   "outputs": [],
   "source": [
    "# Move python run script\n",
    "copy_to_remote(priv_key, run_name+'.py', 'ubuntu', instance.public_ip_address, ec2_path)\n",
    "\n",
    "# Move .cont6 file\n",
    "copy_to_remote(priv_key, cont6_file, 'ubuntu', instance.public_ip_address, ec2_path)"
   ]
  },
  {
   "cell_type": "markdown",
   "metadata": {},
   "source": [
    "<a id=\"Step_4\"></a>\n",
    "## Step 4: Run Continuity simulation"
   ]
  },
  {
   "cell_type": "code",
   "execution_count": null,
   "metadata": {},
   "outputs": [],
   "source": [
    "ec2_cont_path = '/home/ubuntu/Continuity/'"
   ]
  },
  {
   "cell_type": "code",
   "execution_count": null,
   "metadata": {},
   "outputs": [],
   "source": [
    "ssm_client = boto3.client('ssm', region,\n",
    "        aws_access_key_id = aws_access_key_id,\n",
    "        aws_secret_access_key = aws_secret_access_key)\n",
    "#ssm_client.describe_instance_information()"
   ]
  },
  {
   "cell_type": "code",
   "execution_count": null,
   "metadata": {},
   "outputs": [],
   "source": [
    "def remote_exec(client, commands, instance_ids):\n",
    "    resp = client.send_command(\n",
    "        DocumentName=\"AWS-RunShellScript\", # One of AWS' preconfigured documents\n",
    "        Parameters={'commands': commands},\n",
    "        InstanceIds=instance_ids,\n",
    "    )\n",
    "    return resp"
   ]
  },
  {
   "cell_type": "code",
   "execution_count": null,
   "metadata": {},
   "outputs": [],
   "source": [
    "commands = [ec2_cont_path + 'continuity' \\\n",
    "            + ' --unbuffered --full --no-threads --batch ' \\\n",
    "            + ec2_path + run_name+'.py']# \\\n",
    "#            + ' 2>&1 > '+ ec2_path+run_name+'.log']\n",
    "resp = remote_exec(ssm_client,commands,[instance.id])"
   ]
  },
  {
   "cell_type": "code",
   "execution_count": null,
   "metadata": {},
   "outputs": [],
   "source": [
    "command_id = resp['Command']['CommandId']\n",
    "output = ssm_client.get_command_invocation(\n",
    "      CommandId=command_id,\n",
    "      InstanceId=instance.id,\n",
    "    )\n",
    "print(output)"
   ]
  },
  {
   "cell_type": "markdown",
   "metadata": {},
   "source": [
    "<a id=\"Step_5\"></a>\n",
    "## Step 5: Copy files back from EC2 instance and terminate the instance"
   ]
  },
  {
   "cell_type": "markdown",
   "metadata": {},
   "source": [
    "#### Input Parameters\n",
    "\n",
    "The final input is a local path to copy the files to"
   ]
  },
  {
   "cell_type": "code",
   "execution_count": null,
   "metadata": {},
   "outputs": [],
   "source": [
    "local_path = './'\n",
    "ec2_working_dir = '/home/ubuntu/.continuity/working/'\n",
    "output_file = 'AP_out_'+run_name+'.txt'"
   ]
  },
  {
   "cell_type": "markdown",
   "metadata": {},
   "source": [
    "#### Copy Continuity output files"
   ]
  },
  {
   "cell_type": "code",
   "execution_count": null,
   "metadata": {},
   "outputs": [],
   "source": [
    "def copy_from_remote(path_to_pem, host_username, host_ip, host_path, local_file_path):\n",
    "        scp = subprocess.Popen(['scp', '-i',  path_to_pem, '-o', 'StrictHostKeyChecking=accept-new', '%s@%s:%s'%(host_username, host_ip, host_path), local_file_path],\n",
    "                       shell=False,\n",
    "                       stdout=subprocess.PIPE,\n",
    "                       stderr=subprocess.PIPE)\n",
    "        sts = scp.wait()\n",
    "        error = scp.stderr.readlines()\n",
    "        result = scp.stdout.readlines()\n",
    "        if error != []:\n",
    "                print(sys.stderr, \"ERROR: %s\"%error)\n",
    "                return \"error\"\n",
    "        else:\n",
    "                return print('success')"
   ]
  },
  {
   "cell_type": "code",
   "execution_count": null,
   "metadata": {},
   "outputs": [],
   "source": [
    "# Retrieve AP_out file\n",
    "copy_from_remote(priv_key, 'ubuntu', instance.public_ip_address, ec2_working_dir+output_file, local_path)\n",
    "\n",
    "# Retrieve log file\n",
    "copy_from_remote(priv_key, 'ubuntu', instance.public_ip_address, ec2_path+run_name+'.log', local_path)"
   ]
  },
  {
   "cell_type": "markdown",
   "metadata": {},
   "source": [
    "<a id=\"Step_6\"></a>\n",
    "# Step 6: Terminate the instance\n",
    "Terminating the instance cannot be undone.  If you just want to stop the instance and may want to come back to it later, it is better to stop it.  By default, the memory will also be cleared so any files remaining on the instance that were not copied over will be lost."
   ]
  },
  {
   "cell_type": "code",
   "execution_count": null,
   "metadata": {},
   "outputs": [],
   "source": [
    "instance.terminate()"
   ]
  },
  {
   "cell_type": "code",
   "execution_count": null,
   "metadata": {},
   "outputs": [],
   "source": [
    "show_instance('running')"
   ]
  }
 ],
 "metadata": {
  "kernelspec": {
   "display_name": "Python 3",
   "language": "python",
   "name": "python3"
  },
  "language_info": {
   "codemirror_mode": {
    "name": "ipython",
    "version": 3
   },
   "file_extension": ".py",
   "mimetype": "text/x-python",
   "name": "python",
   "nbconvert_exporter": "python",
   "pygments_lexer": "ipython3",
   "version": "3.7.4"
  }
 },
 "nbformat": 4,
 "nbformat_minor": 4
}
